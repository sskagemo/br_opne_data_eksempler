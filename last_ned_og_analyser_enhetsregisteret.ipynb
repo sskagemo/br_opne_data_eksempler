{
 "metadata": {
  "language_info": {
   "codemirror_mode": {
    "name": "ipython",
    "version": 3
   },
   "file_extension": ".py",
   "mimetype": "text/x-python",
   "name": "python",
   "nbconvert_exporter": "python",
   "pygments_lexer": "ipython3",
   "version": "3.9.1"
  },
  "orig_nbformat": 2,
  "kernelspec": {
   "name": "python3",
   "display_name": "Python 3",
   "language": "python"
  }
 },
 "nbformat": 4,
 "nbformat_minor": 2,
 "cells": [
  {
   "source": [
    "# Laste ned og analysere åpne data fra Enhetsregisteret\n",
    "\n",
    "Søke-API-et kan brukes for å gjøre forespørsler i Enhetsregisteret, og få resultatene direkte. Men API-et har en begrensning som gjør at det ikke er mulig å få mer enn 10.000 enheter i resultatet. Hvis du for eksempel søker etter enheter med et sett av næringskoder, og resultatet er mer enn 10.000, får du kun tilgang til detaljene om de 10.000 første enhetene i resultatet.\n",
    "\n",
    "Det er derfor nyttig å kunne laste ned hele datasettet og jobbe med en kopi. I denne notatboken viser vi hvordan du 1) laster ned hele Enhetsregisteret, 2) Konverterer filen til CSV-format (fordi det går raskere å jobbe med senere), 3) leser filen med Python og Pandas, og til slutt 4) noen eksempler på enkle analyser.\n",
    "\n",
    "Merk at siden registeret er såpass stort tar det noen minutter både å laste ned og konvertere den nedlastede fila. Hvis du ikke er avhengig av å bruke helt oppdaterte data, kan du bruke den vedlagte kopien. Isåfall kan du hoppe til [Alternativ løsning](#alternativ).\n",
    "\n",
    "Denne notatboken bruker Python, og all koden skal fungere i alle moderne python-miljø. I tillegg til Python bruker vi følgende verktøy, som må installeres før vi går videre:\n",
    "\n",
    "- requests: Et verktøy for kommunisere med data.brreg.no\n",
    "- xlsx2csv: Et verktøy for å konvertere fra *.xlsx-formatet til *.csv-format\n",
    "- pandas: Et populært verktøy for å håndtere data, inkludert \"rydde\" og analysere dem\n",
    "\n",
    "\n"
   ],
   "cell_type": "markdown",
   "metadata": {}
  },
  {
   "cell_type": "code",
   "execution_count": 1,
   "metadata": {},
   "outputs": [
    {
     "output_type": "stream",
     "name": "stdout",
     "text": [
      "Collecting requests\n",
      "  Using cached requests-2.25.1-py2.py3-none-any.whl (61 kB)\n",
      "Collecting urllib3<1.27,>=1.21.1\n",
      "  Using cached urllib3-1.26.4-py2.py3-none-any.whl (153 kB)\n",
      "Collecting chardet<5,>=3.0.2\n",
      "  Using cached chardet-4.0.0-py2.py3-none-any.whl (178 kB)\n",
      "Collecting certifi>=2017.4.17\n",
      "  Using cached certifi-2020.12.5-py2.py3-none-any.whl (147 kB)\n",
      "Collecting idna<3,>=2.5\n",
      "  Using cached idna-2.10-py2.py3-none-any.whl (58 kB)\n",
      "Installing collected packages: urllib3, idna, chardet, certifi, requests\n",
      "Successfully installed certifi-2020.12.5 chardet-4.0.0 idna-2.10 requests-2.25.1 urllib3-1.26.4\n",
      "Collecting xlsx2csv\n",
      "  Downloading xlsx2csv-0.7.8.tar.gz (230 kB)\n",
      "\u001b[K     |████████████████████████████████| 230 kB 3.7 MB/s \n",
      "\u001b[?25hUsing legacy 'setup.py install' for xlsx2csv, since package 'wheel' is not installed.\n",
      "Installing collected packages: xlsx2csv\n",
      "    Running setup.py install for xlsx2csv ... \u001b[?25ldone\n",
      "\u001b[?25hSuccessfully installed xlsx2csv-0.7.8\n",
      "Collecting pandas\n",
      "  Using cached pandas-1.2.4-cp39-cp39-manylinux1_x86_64.whl (9.7 MB)\n",
      "Requirement already satisfied: python-dateutil>=2.7.3 in ./.venv/lib/python3.9/site-packages (from pandas) (2.8.1)\n",
      "Collecting pytz>=2017.3\n",
      "  Using cached pytz-2021.1-py2.py3-none-any.whl (510 kB)\n",
      "Collecting numpy>=1.16.5\n",
      "  Using cached numpy-1.20.2-cp39-cp39-manylinux2010_x86_64.whl (15.4 MB)\n",
      "Requirement already satisfied: six>=1.5 in ./.venv/lib/python3.9/site-packages (from python-dateutil>=2.7.3->pandas) (1.15.0)\n",
      "Installing collected packages: pytz, numpy, pandas\n",
      "Successfully installed numpy-1.20.2 pandas-1.2.4 pytz-2021.1\n"
     ]
    }
   ],
   "source": [
    "!pip install requests\n",
    "!pip install xlsx2csv\n",
    "!pip install pandas"
   ]
  },
  {
   "source": [
    "Etter at verktøyene er installert, må de importeres for å være tilgjengelige for Python."
   ],
   "cell_type": "markdown",
   "metadata": {}
  },
  {
   "cell_type": "code",
   "execution_count": 7,
   "metadata": {},
   "outputs": [],
   "source": [
    "import requests\n",
    "from xlsx2csv import Xlsx2csv\n",
    "import pandas as pd\n",
    "import numpy as np"
   ]
  },
  {
   "source": [
    "## 1) Laste ned alle hovedenheter fra Enhetsregisteret\n",
    "Hovedenhetene kan lastes ned som enten JSON- eller XLSX-format. Vi bruker XLSX-formatet fordi det er er \"forflatet\" til en stor tabell, noe som gjør det enklere å bruke med Pandas-verktøyet.\n",
    "\n",
    "Filen som lastes ned er ca 200 MB stor. Hvor langt tid det tar vil være avhengig av nettverket. Hvis kjører koden fra mybinder.org tar det erfaringsmessig i underkant av fem minutter. På en PC på hjemmekontor har det tatt opp mot 10 minutter.\n",
    "\n",
    "Det er mulig å laste ned og lagre en fil med enklere kode enn det som er skrevet nedenfor, men da lastes hele filen ned i minnet før den lagres. Det krever mer minne.\n",
    "\n",
    "NB! MyBinder.org er en gratistjeneste, og for å redusere behovet for maskinressurser, skrur den av virtuelle maskiner som ikke er i bruk, det vil si at all koden du har kjørt blir nullstilt [hvis du er inaktiv i mer enn ti minutter](https://mybinder.readthedocs.io/en/latest/about/about.html#how-long-will-my-binder-session-last). **Da må du starte maskinen på nytt, og sannsynligvis må all kode må kjøres på nytt og fila må lastes ned på nytt.**\n"
   ],
   "cell_type": "markdown",
   "metadata": {}
  },
  {
   "cell_type": "code",
   "execution_count": 3,
   "metadata": {},
   "outputs": [
    {
     "output_type": "stream",
     "name": "stdout",
     "text": [
      "CPU times: user 2.11 s, sys: 1.68 s, total: 3.79 s\nWall time: 8min 7s\n"
     ]
    }
   ],
   "source": [
    "%%time\n",
    "url = 'https://data.brreg.no/enhetsregisteret/api/enheter/lastned/regneark'\n",
    "headers = {'Accept': 'application/vnd.brreg.enhetsregisteret.enhet+vnd.openxmlformats-officedocument.spreadsheetml.sheet;charset=UTF-8'}\n",
    "session = requests.Session() # establish a session that is kept open during the transfer, instead of performing separate requests\n",
    "r = session.get(url, headers=headers, stream = True)\n",
    "r.raise_for_status()\n",
    "with open('er.xlsx','wb') as f:\n",
    "    for chunk in r.iter_content(1024*1024*2): # laster ned og skriver ca 2 MB av gangen\n",
    "        f.write(chunk)"
   ]
  },
  {
   "source": [
    "# 2) Konvertere filen til CSV-formatet\n",
    "Python Pandas har en funksjon for å lese xlsx-filer, men den er tregere og krever mer minne enn tilsvarende metode for csv-filer. Du sparer derfor tid på å konvertere filen til csv-formatet først. Når du kjører koden på mybinder.org, risikerer du dessuten at lesing av xlsx-filen krever mer minne enn du er tildelt, og da stopper prosessen.\n",
    "\n",
    "For å konvertere den nedlastede fila, bruker vi xlsx2csv. På mybinder.org tar dette erfaringsmessig i underkant av 5 minutter. På en PC på hjemmekontor tar det nærmere ti.\n"
   ],
   "cell_type": "markdown",
   "metadata": {}
  },
  {
   "cell_type": "code",
   "execution_count": 4,
   "metadata": {},
   "outputs": [
    {
     "output_type": "stream",
     "name": "stdout",
     "text": [
      "CPU times: user 8min 6s, sys: 12.2 s, total: 8min 18s\nWall time: 8min 19s\n"
     ]
    }
   ],
   "source": [
    "%time Xlsx2csv(\"er.xlsx\", outputencoding=\"utf-8\").convert(\"er.csv\")"
   ]
  },
  {
   "source": [
    "## 3) Lese filen med Python og Pandas\n",
    "\n",
    "Pandas har en egen funksjon for å lese csv-filer, '''read_csv'''. I kommandoen nedenfor har vi i tillegg spesifisert informasjon om typene data i filen, for å gjøre det lettere å bruke senere."
   ],
   "cell_type": "markdown",
   "metadata": {}
  },
  {
   "cell_type": "code",
   "execution_count": 8,
   "metadata": {},
   "outputs": [],
   "source": [
    "df = pd.read_csv('er.csv', dtype={\n",
    "        'Organisasjonsnummer': str,\n",
    "        'Navn': str,\n",
    "        'Organisasjonsform.kode': 'category',\n",
    "        'Organisasjonsform.beskrivelse': 'category',\n",
    "        'Næringskode 1': str,\n",
    "        'Næringskode 1.beskrivelse': str,\n",
    "        'Næringskode 2': str,\n",
    "        'Næringskode 2.beskrivelse': str,\n",
    "        'Næringskode 3': str,\n",
    "        'Næringskode 3.beskrivelse': str,\n",
    "        'Hjelpeenhetskode': 'category',\n",
    "        'Hjelpeenhetskode.beskrivelse': 'category',\n",
    "        'Antall ansatte': np.int16,\n",
    "        'Hjemmeside': str,\n",
    "        'Postadresse.adresse': str,\n",
    "        'Postadresse.poststed': str,\n",
    "        'Postadresse.postnummer': str,\n",
    "        'Postadresse.kommune': str,\n",
    "        'Postadresse.kommunenummer': str,\n",
    "        'Postadresse.land': 'category',\n",
    "        'Postadresse.landkode': 'category',\n",
    "        'Forretningsadresse.adresse': str,\n",
    "        'Forretningsadresse.poststed': str,\n",
    "        'Forretningsadresse.postnummer': str,\n",
    "        'Forretningsadresse.kommune': str,\n",
    "        'Forretningsadresse.kommunenummer': str,\n",
    "        'Forretningsadresse.land': 'category',\n",
    "        'Forretningsadresse.landkode': 'category',\n",
    "        'Institusjonell sektorkode': 'category',\n",
    "        'Institusjonell sektorkode.beskrivelse': 'category',\n",
    "        'Siste innsendte årsregnskap': str, # klarte ikke konvertere til np.int16\n",
    "        'Registreringsdato i Enhetsregisteret': str, # klarer ikke konvertere 'datetime64',\n",
    "        'Stiftelsesdato': str, # klarte ikke å konvertere til datetime64 - 1550-12-31 00:00:00\n",
    "        'FrivilligRegistrertIMvaregisteret': 'category',\n",
    "        'Registrert i MVA-registeret': 'category',\n",
    "        'Registrert i Frivillighetsregisteret': 'category',\n",
    "        'Registrert i Foretaksregisteret': 'category',\n",
    "        'Registrert i Stiftelsesregisteret': 'category',\n",
    "        'Konkurs': 'category',\n",
    "        'Under avvikling': 'category',\n",
    "        'Under tvangsavvikling eller tvangsoppløsning': 'category',\n",
    "        'Overordnet enhet i offentlig sektor': str,\n",
    "        'Målform': 'category' })"
   ]
  },
  {
   "source": [
    "<a id='alternativ'></a>\n",
    "# Alternativ: Bruk vedlagte kopi\n",
    "\n",
    "Hvis du ikke er avhengig av helt oppdaterte data, ligger det en kopi av er.csv som del av dette arbeidsområdet. Ved å bruke den sparer du tid på å laste ned og konvertere fila. For informasjon tidspunkt for fila, kjør kommandoen nedenfor:"
   ],
   "cell_type": "markdown",
   "metadata": {}
  },
  {
   "cell_type": "code",
   "execution_count": 5,
   "metadata": {},
   "outputs": [
    {
     "output_type": "stream",
     "name": "stdout",
     "text": [
      "-rw-r--r-- 1 wslstsk wslstsk 64931668 Apr 29 13:31 er.csv.gz\n"
     ]
    }
   ],
   "source": [
    "!ls -l er.csv.gz"
   ]
  },
  {
   "source": [
    "NB! Ikke kjør denne cellen med kode hvis du allerede har lastet ned og lest inn oppdaterte data :-) \n"
   ],
   "cell_type": "markdown",
   "metadata": {}
  },
  {
   "cell_type": "code",
   "execution_count": 9,
   "metadata": {},
   "outputs": [],
   "source": [
    "df = pd.read_csv('er.csv.gz', compression='gzip', dtype={\n",
    "        'Organisasjonsnummer': str,\n",
    "        'Navn': str,\n",
    "        'Organisasjonsform.kode': 'category',\n",
    "        'Organisasjonsform.beskrivelse': 'category',\n",
    "        'Næringskode 1': str,\n",
    "        'Næringskode 1.beskrivelse': str,\n",
    "        'Næringskode 2': str,\n",
    "        'Næringskode 2.beskrivelse': str,\n",
    "        'Næringskode 3': str,\n",
    "        'Næringskode 3.beskrivelse': str,\n",
    "        'Hjelpeenhetskode': 'category',\n",
    "        'Hjelpeenhetskode.beskrivelse': 'category',\n",
    "        'Antall ansatte': np.int16,\n",
    "        'Hjemmeside': str,\n",
    "        'Postadresse.adresse': str,\n",
    "        'Postadresse.poststed': str,\n",
    "        'Postadresse.postnummer': str,\n",
    "        'Postadresse.kommune': str,\n",
    "        'Postadresse.kommunenummer': str,\n",
    "        'Postadresse.land': 'category',\n",
    "        'Postadresse.landkode': 'category',\n",
    "        'Forretningsadresse.adresse': str,\n",
    "        'Forretningsadresse.poststed': str,\n",
    "        'Forretningsadresse.postnummer': str,\n",
    "        'Forretningsadresse.kommune': str,\n",
    "        'Forretningsadresse.kommunenummer': str,\n",
    "        'Forretningsadresse.land': 'category',\n",
    "        'Forretningsadresse.landkode': 'category',\n",
    "        'Institusjonell sektorkode': 'category',\n",
    "        'Institusjonell sektorkode.beskrivelse': 'category',\n",
    "        'Siste innsendte årsregnskap': str, # klarte ikke konvertere til np.int16\n",
    "        'Registreringsdato i Enhetsregisteret': str, # klarer ikke konvertere 'datetime64',\n",
    "        'Stiftelsesdato': str, # klarte ikke å konvertere til datetime64 - 1550-12-31 00:00:00\n",
    "        'FrivilligRegistrertIMvaregisteret': 'category',\n",
    "        'Registrert i MVA-registeret': 'category',\n",
    "        'Registrert i Frivillighetsregisteret': 'category',\n",
    "        'Registrert i Foretaksregisteret': 'category',\n",
    "        'Registrert i Stiftelsesregisteret': 'category',\n",
    "        'Konkurs': 'category',\n",
    "        'Under avvikling': 'category',\n",
    "        'Under tvangsavvikling eller tvangsoppløsning': 'category',\n",
    "        'Overordnet enhet i offentlig sektor': str,\n",
    "        'Målform': 'category' })"
   ]
  },
  {
   "cell_type": "code",
   "execution_count": null,
   "metadata": {},
   "outputs": [],
   "source": []
  }
 ]
}